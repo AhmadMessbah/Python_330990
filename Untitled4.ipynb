{
  "nbformat": 4,
  "nbformat_minor": 0,
  "metadata": {
    "colab": {
      "provenance": [],
      "history_visible": true,
      "gpuType": "T4",
      "mount_file_id": "17MrAHRFq-tkRNVp-9xVO_pP-xOc81-mB",
      "authorship_tag": "ABX9TyNHxbNbP3rML1C3AP4KgzwR",
      "include_colab_link": true
    },
    "kernelspec": {
      "name": "python3",
      "display_name": "Python 3"
    },
    "language_info": {
      "name": "python"
    },
    "accelerator": "GPU"
  },
  "cells": [
    {
      "cell_type": "markdown",
      "metadata": {
        "id": "view-in-github",
        "colab_type": "text"
      },
      "source": [
        "<a href=\"https://colab.research.google.com/github/AhmadMessbah/Python_330990/blob/master/Untitled4.ipynb\" target=\"_parent\"><img src=\"https://colab.research.google.com/assets/colab-badge.svg\" alt=\"Open In Colab\"/></a>"
      ]
    },
    {
      "cell_type": "code",
      "execution_count": 4,
      "metadata": {
        "colab": {
          "base_uri": "https://localhost:8080/"
        },
        "id": "4q8SbXHN0RkE",
        "outputId": "97198ca5-ca74-4490-d785-b9bc68a4d46e"
      },
      "outputs": [
        {
          "output_type": "stream",
          "name": "stdout",
          "text": [
            "             age       salary\n",
            "count   4.000000     4.000000\n",
            "mean   50.750000  4000.000000\n",
            "std    24.676237  1414.213562\n",
            "min    23.000000  2000.000000\n",
            "25%    35.750000  3500.000000\n",
            "50%    50.000000  4500.000000\n",
            "75%    65.000000  5000.000000\n",
            "max    80.000000  5000.000000\n"
          ]
        }
      ],
      "source": [
        "import pandas as pd\n",
        "\n",
        "data={'age':[23,40,60,80],'salary':[2000,4000,5000,5000]}\n",
        "df=pd.DataFrame(data)\n",
        "summary=df.describe()\n",
        "print(summary)\n"
      ]
    },
    {
      "cell_type": "code",
      "source": [
        "import pandas as pd\n",
        "data={'temprature':[20,24,15,-3,-13],'accident_sevrity':[4,6,8,1,1\n",
        "                                                         ]}\n",
        "df=pd.DataFrame(data)\n",
        "summury=df.describe()\n",
        "print(summury)"
      ],
      "metadata": {
        "colab": {
          "base_uri": "https://localhost:8080/"
        },
        "id": "NpKBAvZD9noQ",
        "outputId": "09a9a6df-83b4-4117-d023-91b5c4f743b3"
      },
      "execution_count": 5,
      "outputs": [
        {
          "output_type": "stream",
          "name": "stdout",
          "text": [
            "       temprature  accident_sevrity\n",
            "count    5.000000          5.000000\n",
            "mean     8.600000          4.000000\n",
            "std     15.883954          3.082207\n",
            "min    -13.000000          1.000000\n",
            "25%     -3.000000          1.000000\n",
            "50%     15.000000          4.000000\n",
            "75%     20.000000          6.000000\n",
            "max     24.000000          8.000000\n"
          ]
        }
      ]
    },
    {
      "cell_type": "code",
      "source": [
        "from google.colab import files\n",
        "uploaded=files.upload()\n"
      ],
      "metadata": {
        "colab": {
          "base_uri": "https://localhost:8080/",
          "height": 73
        },
        "id": "MVjeFyEyC2UT",
        "outputId": "b015549e-3f09-4ee1-d12d-c3785a8bdbc7"
      },
      "execution_count": 8,
      "outputs": [
        {
          "output_type": "display_data",
          "data": {
            "text/plain": [
              "<IPython.core.display.HTML object>"
            ],
            "text/html": [
              "\n",
              "     <input type=\"file\" id=\"files-d331f554-46ab-4c02-b952-3e04e9bb4cae\" name=\"files[]\" multiple disabled\n",
              "        style=\"border:none\" />\n",
              "     <output id=\"result-d331f554-46ab-4c02-b952-3e04e9bb4cae\">\n",
              "      Upload widget is only available when the cell has been executed in the\n",
              "      current browser session. Please rerun this cell to enable.\n",
              "      </output>\n",
              "      <script>// Copyright 2017 Google LLC\n",
              "//\n",
              "// Licensed under the Apache License, Version 2.0 (the \"License\");\n",
              "// you may not use this file except in compliance with the License.\n",
              "// You may obtain a copy of the License at\n",
              "//\n",
              "//      http://www.apache.org/licenses/LICENSE-2.0\n",
              "//\n",
              "// Unless required by applicable law or agreed to in writing, software\n",
              "// distributed under the License is distributed on an \"AS IS\" BASIS,\n",
              "// WITHOUT WARRANTIES OR CONDITIONS OF ANY KIND, either express or implied.\n",
              "// See the License for the specific language governing permissions and\n",
              "// limitations under the License.\n",
              "\n",
              "/**\n",
              " * @fileoverview Helpers for google.colab Python module.\n",
              " */\n",
              "(function(scope) {\n",
              "function span(text, styleAttributes = {}) {\n",
              "  const element = document.createElement('span');\n",
              "  element.textContent = text;\n",
              "  for (const key of Object.keys(styleAttributes)) {\n",
              "    element.style[key] = styleAttributes[key];\n",
              "  }\n",
              "  return element;\n",
              "}\n",
              "\n",
              "// Max number of bytes which will be uploaded at a time.\n",
              "const MAX_PAYLOAD_SIZE = 100 * 1024;\n",
              "\n",
              "function _uploadFiles(inputId, outputId) {\n",
              "  const steps = uploadFilesStep(inputId, outputId);\n",
              "  const outputElement = document.getElementById(outputId);\n",
              "  // Cache steps on the outputElement to make it available for the next call\n",
              "  // to uploadFilesContinue from Python.\n",
              "  outputElement.steps = steps;\n",
              "\n",
              "  return _uploadFilesContinue(outputId);\n",
              "}\n",
              "\n",
              "// This is roughly an async generator (not supported in the browser yet),\n",
              "// where there are multiple asynchronous steps and the Python side is going\n",
              "// to poll for completion of each step.\n",
              "// This uses a Promise to block the python side on completion of each step,\n",
              "// then passes the result of the previous step as the input to the next step.\n",
              "function _uploadFilesContinue(outputId) {\n",
              "  const outputElement = document.getElementById(outputId);\n",
              "  const steps = outputElement.steps;\n",
              "\n",
              "  const next = steps.next(outputElement.lastPromiseValue);\n",
              "  return Promise.resolve(next.value.promise).then((value) => {\n",
              "    // Cache the last promise value to make it available to the next\n",
              "    // step of the generator.\n",
              "    outputElement.lastPromiseValue = value;\n",
              "    return next.value.response;\n",
              "  });\n",
              "}\n",
              "\n",
              "/**\n",
              " * Generator function which is called between each async step of the upload\n",
              " * process.\n",
              " * @param {string} inputId Element ID of the input file picker element.\n",
              " * @param {string} outputId Element ID of the output display.\n",
              " * @return {!Iterable<!Object>} Iterable of next steps.\n",
              " */\n",
              "function* uploadFilesStep(inputId, outputId) {\n",
              "  const inputElement = document.getElementById(inputId);\n",
              "  inputElement.disabled = false;\n",
              "\n",
              "  const outputElement = document.getElementById(outputId);\n",
              "  outputElement.innerHTML = '';\n",
              "\n",
              "  const pickedPromise = new Promise((resolve) => {\n",
              "    inputElement.addEventListener('change', (e) => {\n",
              "      resolve(e.target.files);\n",
              "    });\n",
              "  });\n",
              "\n",
              "  const cancel = document.createElement('button');\n",
              "  inputElement.parentElement.appendChild(cancel);\n",
              "  cancel.textContent = 'Cancel upload';\n",
              "  const cancelPromise = new Promise((resolve) => {\n",
              "    cancel.onclick = () => {\n",
              "      resolve(null);\n",
              "    };\n",
              "  });\n",
              "\n",
              "  // Wait for the user to pick the files.\n",
              "  const files = yield {\n",
              "    promise: Promise.race([pickedPromise, cancelPromise]),\n",
              "    response: {\n",
              "      action: 'starting',\n",
              "    }\n",
              "  };\n",
              "\n",
              "  cancel.remove();\n",
              "\n",
              "  // Disable the input element since further picks are not allowed.\n",
              "  inputElement.disabled = true;\n",
              "\n",
              "  if (!files) {\n",
              "    return {\n",
              "      response: {\n",
              "        action: 'complete',\n",
              "      }\n",
              "    };\n",
              "  }\n",
              "\n",
              "  for (const file of files) {\n",
              "    const li = document.createElement('li');\n",
              "    li.append(span(file.name, {fontWeight: 'bold'}));\n",
              "    li.append(span(\n",
              "        `(${file.type || 'n/a'}) - ${file.size} bytes, ` +\n",
              "        `last modified: ${\n",
              "            file.lastModifiedDate ? file.lastModifiedDate.toLocaleDateString() :\n",
              "                                    'n/a'} - `));\n",
              "    const percent = span('0% done');\n",
              "    li.appendChild(percent);\n",
              "\n",
              "    outputElement.appendChild(li);\n",
              "\n",
              "    const fileDataPromise = new Promise((resolve) => {\n",
              "      const reader = new FileReader();\n",
              "      reader.onload = (e) => {\n",
              "        resolve(e.target.result);\n",
              "      };\n",
              "      reader.readAsArrayBuffer(file);\n",
              "    });\n",
              "    // Wait for the data to be ready.\n",
              "    let fileData = yield {\n",
              "      promise: fileDataPromise,\n",
              "      response: {\n",
              "        action: 'continue',\n",
              "      }\n",
              "    };\n",
              "\n",
              "    // Use a chunked sending to avoid message size limits. See b/62115660.\n",
              "    let position = 0;\n",
              "    do {\n",
              "      const length = Math.min(fileData.byteLength - position, MAX_PAYLOAD_SIZE);\n",
              "      const chunk = new Uint8Array(fileData, position, length);\n",
              "      position += length;\n",
              "\n",
              "      const base64 = btoa(String.fromCharCode.apply(null, chunk));\n",
              "      yield {\n",
              "        response: {\n",
              "          action: 'append',\n",
              "          file: file.name,\n",
              "          data: base64,\n",
              "        },\n",
              "      };\n",
              "\n",
              "      let percentDone = fileData.byteLength === 0 ?\n",
              "          100 :\n",
              "          Math.round((position / fileData.byteLength) * 100);\n",
              "      percent.textContent = `${percentDone}% done`;\n",
              "\n",
              "    } while (position < fileData.byteLength);\n",
              "  }\n",
              "\n",
              "  // All done.\n",
              "  yield {\n",
              "    response: {\n",
              "      action: 'complete',\n",
              "    }\n",
              "  };\n",
              "}\n",
              "\n",
              "scope.google = scope.google || {};\n",
              "scope.google.colab = scope.google.colab || {};\n",
              "scope.google.colab._files = {\n",
              "  _uploadFiles,\n",
              "  _uploadFilesContinue,\n",
              "};\n",
              "})(self);\n",
              "</script> "
            ]
          },
          "metadata": {}
        },
        {
          "output_type": "stream",
          "name": "stdout",
          "text": [
            "Saving imdb_top_1000.csv to imdb_top_1000.csv\n"
          ]
        }
      ]
    },
    {
      "cell_type": "code",
      "source": [
        "import pandas as pd\n",
        "import numpy as np\n",
        "df=pd.read_csv('imdb_top_1000.csv')\n",
        "print(df)"
      ],
      "metadata": {
        "colab": {
          "base_uri": "https://localhost:8080/"
        },
        "id": "VDIQ9URkDDjB",
        "outputId": "bc5b3780-45ba-4c05-9d3c-ac7926557dad"
      },
      "execution_count": 9,
      "outputs": [
        {
          "output_type": "stream",
          "name": "stdout",
          "text": [
            "                                           Poster_Link  \\\n",
            "0    https://m.media-amazon.com/images/M/MV5BMDFkYT...   \n",
            "1    https://m.media-amazon.com/images/M/MV5BM2MyNj...   \n",
            "2    https://m.media-amazon.com/images/M/MV5BMTMxNT...   \n",
            "3    https://m.media-amazon.com/images/M/MV5BMWMwMG...   \n",
            "4    https://m.media-amazon.com/images/M/MV5BMWU4N2...   \n",
            "..                                                 ...   \n",
            "995  https://m.media-amazon.com/images/M/MV5BNGEwMT...   \n",
            "996  https://m.media-amazon.com/images/M/MV5BODk3Yj...   \n",
            "997  https://m.media-amazon.com/images/M/MV5BM2U3Yz...   \n",
            "998  https://m.media-amazon.com/images/M/MV5BZTBmMj...   \n",
            "999  https://m.media-amazon.com/images/M/MV5BMTY5OD...   \n",
            "\n",
            "                 Series_Title Released_Year Certificate  Runtime  \\\n",
            "0    The Shawshank Redemption          1994           A  142 min   \n",
            "1               The Godfather          1972           A  175 min   \n",
            "2             The Dark Knight          2008          UA  152 min   \n",
            "3      The Godfather: Part II          1974           A  202 min   \n",
            "4                12 Angry Men          1957           U   96 min   \n",
            "..                        ...           ...         ...      ...   \n",
            "995    Breakfast at Tiffany's          1961           A  115 min   \n",
            "996                     Giant          1956           G  201 min   \n",
            "997     From Here to Eternity          1953      Passed  118 min   \n",
            "998                  Lifeboat          1944         NaN   97 min   \n",
            "999              The 39 Steps          1935         NaN   86 min   \n",
            "\n",
            "                        Genre  IMDB_Rating  \\\n",
            "0                       Drama          9.3   \n",
            "1                Crime, Drama          9.2   \n",
            "2        Action, Crime, Drama          9.0   \n",
            "3                Crime, Drama          9.0   \n",
            "4                Crime, Drama          9.0   \n",
            "..                        ...          ...   \n",
            "995    Comedy, Drama, Romance          7.6   \n",
            "996            Drama, Western          7.6   \n",
            "997       Drama, Romance, War          7.6   \n",
            "998                Drama, War          7.6   \n",
            "999  Crime, Mystery, Thriller          7.6   \n",
            "\n",
            "                                              Overview  Meta_score  \\\n",
            "0    Two imprisoned men bond over a number of years...        80.0   \n",
            "1    An organized crime dynasty's aging patriarch t...       100.0   \n",
            "2    When the menace known as the Joker wreaks havo...        84.0   \n",
            "3    The early life and career of Vito Corleone in ...        90.0   \n",
            "4    A jury holdout attempts to prevent a miscarria...        96.0   \n",
            "..                                                 ...         ...   \n",
            "995  A young New York socialite becomes interested ...        76.0   \n",
            "996  Sprawling epic covering the life of a Texas ca...        84.0   \n",
            "997  In Hawaii in 1941, a private is cruelly punish...        85.0   \n",
            "998  Several survivors of a torpedoed merchant ship...        78.0   \n",
            "999  A man in London tries to help a counter-espion...        93.0   \n",
            "\n",
            "                 Director              Star1              Star2  \\\n",
            "0          Frank Darabont        Tim Robbins     Morgan Freeman   \n",
            "1    Francis Ford Coppola      Marlon Brando          Al Pacino   \n",
            "2       Christopher Nolan     Christian Bale       Heath Ledger   \n",
            "3    Francis Ford Coppola          Al Pacino     Robert De Niro   \n",
            "4            Sidney Lumet        Henry Fonda        Lee J. Cobb   \n",
            "..                    ...                ...                ...   \n",
            "995         Blake Edwards     Audrey Hepburn     George Peppard   \n",
            "996        George Stevens   Elizabeth Taylor        Rock Hudson   \n",
            "997        Fred Zinnemann     Burt Lancaster   Montgomery Clift   \n",
            "998      Alfred Hitchcock  Tallulah Bankhead        John Hodiak   \n",
            "999      Alfred Hitchcock       Robert Donat  Madeleine Carroll   \n",
            "\n",
            "              Star3           Star4  No_of_Votes        Gross  \n",
            "0        Bob Gunton  William Sadler      2343110   28,341,469  \n",
            "1        James Caan    Diane Keaton      1620367  134,966,411  \n",
            "2     Aaron Eckhart   Michael Caine      2303232  534,858,444  \n",
            "3     Robert Duvall    Diane Keaton      1129952   57,300,000  \n",
            "4     Martin Balsam    John Fiedler       689845    4,360,000  \n",
            "..              ...             ...          ...          ...  \n",
            "995   Patricia Neal     Buddy Ebsen       166544          NaN  \n",
            "996      James Dean   Carroll Baker        34075          NaN  \n",
            "997    Deborah Kerr      Donna Reed        43374   30,500,000  \n",
            "998   Walter Slezak  William Bendix        26471          NaN  \n",
            "999  Lucie Mannheim  Godfrey Tearle        51853          NaN  \n",
            "\n",
            "[1000 rows x 16 columns]\n"
          ]
        }
      ]
    },
    {
      "cell_type": "code",
      "source": [
        "df.describe()"
      ],
      "metadata": {
        "colab": {
          "base_uri": "https://localhost:8080/",
          "height": 300
        },
        "id": "sGvNjSSeDO-q",
        "outputId": "202cf50d-5ddd-4dcb-d3dd-9a5d20e619c6"
      },
      "execution_count": 10,
      "outputs": [
        {
          "output_type": "execute_result",
          "data": {
            "text/plain": [
              "       IMDB_Rating  Meta_score   No_of_Votes\n",
              "count  1000.000000  843.000000  1.000000e+03\n",
              "mean      7.949300   77.971530  2.736929e+05\n",
              "std       0.275491   12.376099  3.273727e+05\n",
              "min       7.600000   28.000000  2.508800e+04\n",
              "25%       7.700000   70.000000  5.552625e+04\n",
              "50%       7.900000   79.000000  1.385485e+05\n",
              "75%       8.100000   87.000000  3.741612e+05\n",
              "max       9.300000  100.000000  2.343110e+06"
            ],
            "text/html": [
              "\n",
              "  <div id=\"df-6f2e806e-98b8-456e-8a94-1ade5ca80ef7\" class=\"colab-df-container\">\n",
              "    <div>\n",
              "<style scoped>\n",
              "    .dataframe tbody tr th:only-of-type {\n",
              "        vertical-align: middle;\n",
              "    }\n",
              "\n",
              "    .dataframe tbody tr th {\n",
              "        vertical-align: top;\n",
              "    }\n",
              "\n",
              "    .dataframe thead th {\n",
              "        text-align: right;\n",
              "    }\n",
              "</style>\n",
              "<table border=\"1\" class=\"dataframe\">\n",
              "  <thead>\n",
              "    <tr style=\"text-align: right;\">\n",
              "      <th></th>\n",
              "      <th>IMDB_Rating</th>\n",
              "      <th>Meta_score</th>\n",
              "      <th>No_of_Votes</th>\n",
              "    </tr>\n",
              "  </thead>\n",
              "  <tbody>\n",
              "    <tr>\n",
              "      <th>count</th>\n",
              "      <td>1000.000000</td>\n",
              "      <td>843.000000</td>\n",
              "      <td>1.000000e+03</td>\n",
              "    </tr>\n",
              "    <tr>\n",
              "      <th>mean</th>\n",
              "      <td>7.949300</td>\n",
              "      <td>77.971530</td>\n",
              "      <td>2.736929e+05</td>\n",
              "    </tr>\n",
              "    <tr>\n",
              "      <th>std</th>\n",
              "      <td>0.275491</td>\n",
              "      <td>12.376099</td>\n",
              "      <td>3.273727e+05</td>\n",
              "    </tr>\n",
              "    <tr>\n",
              "      <th>min</th>\n",
              "      <td>7.600000</td>\n",
              "      <td>28.000000</td>\n",
              "      <td>2.508800e+04</td>\n",
              "    </tr>\n",
              "    <tr>\n",
              "      <th>25%</th>\n",
              "      <td>7.700000</td>\n",
              "      <td>70.000000</td>\n",
              "      <td>5.552625e+04</td>\n",
              "    </tr>\n",
              "    <tr>\n",
              "      <th>50%</th>\n",
              "      <td>7.900000</td>\n",
              "      <td>79.000000</td>\n",
              "      <td>1.385485e+05</td>\n",
              "    </tr>\n",
              "    <tr>\n",
              "      <th>75%</th>\n",
              "      <td>8.100000</td>\n",
              "      <td>87.000000</td>\n",
              "      <td>3.741612e+05</td>\n",
              "    </tr>\n",
              "    <tr>\n",
              "      <th>max</th>\n",
              "      <td>9.300000</td>\n",
              "      <td>100.000000</td>\n",
              "      <td>2.343110e+06</td>\n",
              "    </tr>\n",
              "  </tbody>\n",
              "</table>\n",
              "</div>\n",
              "    <div class=\"colab-df-buttons\">\n",
              "\n",
              "  <div class=\"colab-df-container\">\n",
              "    <button class=\"colab-df-convert\" onclick=\"convertToInteractive('df-6f2e806e-98b8-456e-8a94-1ade5ca80ef7')\"\n",
              "            title=\"Convert this dataframe to an interactive table.\"\n",
              "            style=\"display:none;\">\n",
              "\n",
              "  <svg xmlns=\"http://www.w3.org/2000/svg\" height=\"24px\" viewBox=\"0 -960 960 960\">\n",
              "    <path d=\"M120-120v-720h720v720H120Zm60-500h600v-160H180v160Zm220 220h160v-160H400v160Zm0 220h160v-160H400v160ZM180-400h160v-160H180v160Zm440 0h160v-160H620v160ZM180-180h160v-160H180v160Zm440 0h160v-160H620v160Z\"/>\n",
              "  </svg>\n",
              "    </button>\n",
              "\n",
              "  <style>\n",
              "    .colab-df-container {\n",
              "      display:flex;\n",
              "      gap: 12px;\n",
              "    }\n",
              "\n",
              "    .colab-df-convert {\n",
              "      background-color: #E8F0FE;\n",
              "      border: none;\n",
              "      border-radius: 50%;\n",
              "      cursor: pointer;\n",
              "      display: none;\n",
              "      fill: #1967D2;\n",
              "      height: 32px;\n",
              "      padding: 0 0 0 0;\n",
              "      width: 32px;\n",
              "    }\n",
              "\n",
              "    .colab-df-convert:hover {\n",
              "      background-color: #E2EBFA;\n",
              "      box-shadow: 0px 1px 2px rgba(60, 64, 67, 0.3), 0px 1px 3px 1px rgba(60, 64, 67, 0.15);\n",
              "      fill: #174EA6;\n",
              "    }\n",
              "\n",
              "    .colab-df-buttons div {\n",
              "      margin-bottom: 4px;\n",
              "    }\n",
              "\n",
              "    [theme=dark] .colab-df-convert {\n",
              "      background-color: #3B4455;\n",
              "      fill: #D2E3FC;\n",
              "    }\n",
              "\n",
              "    [theme=dark] .colab-df-convert:hover {\n",
              "      background-color: #434B5C;\n",
              "      box-shadow: 0px 1px 3px 1px rgba(0, 0, 0, 0.15);\n",
              "      filter: drop-shadow(0px 1px 2px rgba(0, 0, 0, 0.3));\n",
              "      fill: #FFFFFF;\n",
              "    }\n",
              "  </style>\n",
              "\n",
              "    <script>\n",
              "      const buttonEl =\n",
              "        document.querySelector('#df-6f2e806e-98b8-456e-8a94-1ade5ca80ef7 button.colab-df-convert');\n",
              "      buttonEl.style.display =\n",
              "        google.colab.kernel.accessAllowed ? 'block' : 'none';\n",
              "\n",
              "      async function convertToInteractive(key) {\n",
              "        const element = document.querySelector('#df-6f2e806e-98b8-456e-8a94-1ade5ca80ef7');\n",
              "        const dataTable =\n",
              "          await google.colab.kernel.invokeFunction('convertToInteractive',\n",
              "                                                    [key], {});\n",
              "        if (!dataTable) return;\n",
              "\n",
              "        const docLinkHtml = 'Like what you see? Visit the ' +\n",
              "          '<a target=\"_blank\" href=https://colab.research.google.com/notebooks/data_table.ipynb>data table notebook</a>'\n",
              "          + ' to learn more about interactive tables.';\n",
              "        element.innerHTML = '';\n",
              "        dataTable['output_type'] = 'display_data';\n",
              "        await google.colab.output.renderOutput(dataTable, element);\n",
              "        const docLink = document.createElement('div');\n",
              "        docLink.innerHTML = docLinkHtml;\n",
              "        element.appendChild(docLink);\n",
              "      }\n",
              "    </script>\n",
              "  </div>\n",
              "\n",
              "\n",
              "<div id=\"df-9979e2d5-b73f-4404-8603-fd1ed664fad4\">\n",
              "  <button class=\"colab-df-quickchart\" onclick=\"quickchart('df-9979e2d5-b73f-4404-8603-fd1ed664fad4')\"\n",
              "            title=\"Suggest charts\"\n",
              "            style=\"display:none;\">\n",
              "\n",
              "<svg xmlns=\"http://www.w3.org/2000/svg\" height=\"24px\"viewBox=\"0 0 24 24\"\n",
              "     width=\"24px\">\n",
              "    <g>\n",
              "        <path d=\"M19 3H5c-1.1 0-2 .9-2 2v14c0 1.1.9 2 2 2h14c1.1 0 2-.9 2-2V5c0-1.1-.9-2-2-2zM9 17H7v-7h2v7zm4 0h-2V7h2v10zm4 0h-2v-4h2v4z\"/>\n",
              "    </g>\n",
              "</svg>\n",
              "  </button>\n",
              "\n",
              "<style>\n",
              "  .colab-df-quickchart {\n",
              "      --bg-color: #E8F0FE;\n",
              "      --fill-color: #1967D2;\n",
              "      --hover-bg-color: #E2EBFA;\n",
              "      --hover-fill-color: #174EA6;\n",
              "      --disabled-fill-color: #AAA;\n",
              "      --disabled-bg-color: #DDD;\n",
              "  }\n",
              "\n",
              "  [theme=dark] .colab-df-quickchart {\n",
              "      --bg-color: #3B4455;\n",
              "      --fill-color: #D2E3FC;\n",
              "      --hover-bg-color: #434B5C;\n",
              "      --hover-fill-color: #FFFFFF;\n",
              "      --disabled-bg-color: #3B4455;\n",
              "      --disabled-fill-color: #666;\n",
              "  }\n",
              "\n",
              "  .colab-df-quickchart {\n",
              "    background-color: var(--bg-color);\n",
              "    border: none;\n",
              "    border-radius: 50%;\n",
              "    cursor: pointer;\n",
              "    display: none;\n",
              "    fill: var(--fill-color);\n",
              "    height: 32px;\n",
              "    padding: 0;\n",
              "    width: 32px;\n",
              "  }\n",
              "\n",
              "  .colab-df-quickchart:hover {\n",
              "    background-color: var(--hover-bg-color);\n",
              "    box-shadow: 0 1px 2px rgba(60, 64, 67, 0.3), 0 1px 3px 1px rgba(60, 64, 67, 0.15);\n",
              "    fill: var(--button-hover-fill-color);\n",
              "  }\n",
              "\n",
              "  .colab-df-quickchart-complete:disabled,\n",
              "  .colab-df-quickchart-complete:disabled:hover {\n",
              "    background-color: var(--disabled-bg-color);\n",
              "    fill: var(--disabled-fill-color);\n",
              "    box-shadow: none;\n",
              "  }\n",
              "\n",
              "  .colab-df-spinner {\n",
              "    border: 2px solid var(--fill-color);\n",
              "    border-color: transparent;\n",
              "    border-bottom-color: var(--fill-color);\n",
              "    animation:\n",
              "      spin 1s steps(1) infinite;\n",
              "  }\n",
              "\n",
              "  @keyframes spin {\n",
              "    0% {\n",
              "      border-color: transparent;\n",
              "      border-bottom-color: var(--fill-color);\n",
              "      border-left-color: var(--fill-color);\n",
              "    }\n",
              "    20% {\n",
              "      border-color: transparent;\n",
              "      border-left-color: var(--fill-color);\n",
              "      border-top-color: var(--fill-color);\n",
              "    }\n",
              "    30% {\n",
              "      border-color: transparent;\n",
              "      border-left-color: var(--fill-color);\n",
              "      border-top-color: var(--fill-color);\n",
              "      border-right-color: var(--fill-color);\n",
              "    }\n",
              "    40% {\n",
              "      border-color: transparent;\n",
              "      border-right-color: var(--fill-color);\n",
              "      border-top-color: var(--fill-color);\n",
              "    }\n",
              "    60% {\n",
              "      border-color: transparent;\n",
              "      border-right-color: var(--fill-color);\n",
              "    }\n",
              "    80% {\n",
              "      border-color: transparent;\n",
              "      border-right-color: var(--fill-color);\n",
              "      border-bottom-color: var(--fill-color);\n",
              "    }\n",
              "    90% {\n",
              "      border-color: transparent;\n",
              "      border-bottom-color: var(--fill-color);\n",
              "    }\n",
              "  }\n",
              "</style>\n",
              "\n",
              "  <script>\n",
              "    async function quickchart(key) {\n",
              "      const quickchartButtonEl =\n",
              "        document.querySelector('#' + key + ' button');\n",
              "      quickchartButtonEl.disabled = true;  // To prevent multiple clicks.\n",
              "      quickchartButtonEl.classList.add('colab-df-spinner');\n",
              "      try {\n",
              "        const charts = await google.colab.kernel.invokeFunction(\n",
              "            'suggestCharts', [key], {});\n",
              "      } catch (error) {\n",
              "        console.error('Error during call to suggestCharts:', error);\n",
              "      }\n",
              "      quickchartButtonEl.classList.remove('colab-df-spinner');\n",
              "      quickchartButtonEl.classList.add('colab-df-quickchart-complete');\n",
              "    }\n",
              "    (() => {\n",
              "      let quickchartButtonEl =\n",
              "        document.querySelector('#df-9979e2d5-b73f-4404-8603-fd1ed664fad4 button');\n",
              "      quickchartButtonEl.style.display =\n",
              "        google.colab.kernel.accessAllowed ? 'block' : 'none';\n",
              "    })();\n",
              "  </script>\n",
              "</div>\n",
              "\n",
              "    </div>\n",
              "  </div>\n"
            ],
            "application/vnd.google.colaboratory.intrinsic+json": {
              "type": "dataframe",
              "summary": "{\n  \"name\": \"df\",\n  \"rows\": 8,\n  \"fields\": [\n    {\n      \"column\": \"IMDB_Rating\",\n      \"properties\": {\n        \"dtype\": \"number\",\n        \"std\": 351.0984084543952,\n        \"min\": 0.27549120749200917,\n        \"max\": 1000.0,\n        \"num_unique_values\": 8,\n        \"samples\": [\n          7.949299999999999,\n          7.9,\n          1000.0\n        ],\n        \"semantic_type\": \"\",\n        \"description\": \"\"\n      }\n    },\n    {\n      \"column\": \"Meta_score\",\n      \"properties\": {\n        \"dtype\": \"number\",\n        \"std\": 276.71203917420195,\n        \"min\": 12.376099328602022,\n        \"max\": 843.0,\n        \"num_unique_values\": 8,\n        \"samples\": [\n          77.97153024911032,\n          79.0,\n          843.0\n        ],\n        \"semantic_type\": \"\",\n        \"description\": \"\"\n      }\n    },\n    {\n      \"column\": \"No_of_Votes\",\n      \"properties\": {\n        \"dtype\": \"number\",\n        \"std\": 781027.585788524,\n        \"min\": 1000.0,\n        \"max\": 2343110.0,\n        \"num_unique_values\": 8,\n        \"samples\": [\n          273692.911,\n          138548.5,\n          1000.0\n        ],\n        \"semantic_type\": \"\",\n        \"description\": \"\"\n      }\n    }\n  ]\n}"
            }
          },
          "metadata": {},
          "execution_count": 10
        }
      ]
    },
    {
      "cell_type": "code",
      "source": [
        "df.info()"
      ],
      "metadata": {
        "colab": {
          "base_uri": "https://localhost:8080/"
        },
        "id": "GJjtHGoGDlfo",
        "outputId": "7226658a-8914-4878-f223-a53cda255838"
      },
      "execution_count": 11,
      "outputs": [
        {
          "output_type": "stream",
          "name": "stdout",
          "text": [
            "<class 'pandas.core.frame.DataFrame'>\n",
            "RangeIndex: 1000 entries, 0 to 999\n",
            "Data columns (total 16 columns):\n",
            " #   Column         Non-Null Count  Dtype  \n",
            "---  ------         --------------  -----  \n",
            " 0   Poster_Link    1000 non-null   object \n",
            " 1   Series_Title   1000 non-null   object \n",
            " 2   Released_Year  1000 non-null   object \n",
            " 3   Certificate    899 non-null    object \n",
            " 4   Runtime        1000 non-null   object \n",
            " 5   Genre          1000 non-null   object \n",
            " 6   IMDB_Rating    1000 non-null   float64\n",
            " 7   Overview       1000 non-null   object \n",
            " 8   Meta_score     843 non-null    float64\n",
            " 9   Director       1000 non-null   object \n",
            " 10  Star1          1000 non-null   object \n",
            " 11  Star2          1000 non-null   object \n",
            " 12  Star3          1000 non-null   object \n",
            " 13  Star4          1000 non-null   object \n",
            " 14  No_of_Votes    1000 non-null   int64  \n",
            " 15  Gross          831 non-null    object \n",
            "dtypes: float64(2), int64(1), object(13)\n",
            "memory usage: 125.1+ KB\n"
          ]
        }
      ]
    },
    {
      "cell_type": "code",
      "source": [
        "cleane_df = df[[\"Genre\", \"Series_Title\", \"Director\", \"IMDB_Rating\", \"Star1\", \"Star2\", \"Star3\"]] # Corrected column names to match the CSV file\n",
        "print(cleane_df)"
      ],
      "metadata": {
        "colab": {
          "base_uri": "https://localhost:8080/"
        },
        "id": "21xJJ0thF7Ii",
        "outputId": "118aa742-c265-4b01-a7cf-8af0c7259e09"
      },
      "execution_count": 13,
      "outputs": [
        {
          "output_type": "stream",
          "name": "stdout",
          "text": [
            "                        Genre              Series_Title              Director  \\\n",
            "0                       Drama  The Shawshank Redemption        Frank Darabont   \n",
            "1                Crime, Drama             The Godfather  Francis Ford Coppola   \n",
            "2        Action, Crime, Drama           The Dark Knight     Christopher Nolan   \n",
            "3                Crime, Drama    The Godfather: Part II  Francis Ford Coppola   \n",
            "4                Crime, Drama              12 Angry Men          Sidney Lumet   \n",
            "..                        ...                       ...                   ...   \n",
            "995    Comedy, Drama, Romance    Breakfast at Tiffany's         Blake Edwards   \n",
            "996            Drama, Western                     Giant        George Stevens   \n",
            "997       Drama, Romance, War     From Here to Eternity        Fred Zinnemann   \n",
            "998                Drama, War                  Lifeboat      Alfred Hitchcock   \n",
            "999  Crime, Mystery, Thriller              The 39 Steps      Alfred Hitchcock   \n",
            "\n",
            "     IMDB_Rating              Star1              Star2           Star3  \n",
            "0            9.3        Tim Robbins     Morgan Freeman      Bob Gunton  \n",
            "1            9.2      Marlon Brando          Al Pacino      James Caan  \n",
            "2            9.0     Christian Bale       Heath Ledger   Aaron Eckhart  \n",
            "3            9.0          Al Pacino     Robert De Niro   Robert Duvall  \n",
            "4            9.0        Henry Fonda        Lee J. Cobb   Martin Balsam  \n",
            "..           ...                ...                ...             ...  \n",
            "995          7.6     Audrey Hepburn     George Peppard   Patricia Neal  \n",
            "996          7.6   Elizabeth Taylor        Rock Hudson      James Dean  \n",
            "997          7.6     Burt Lancaster   Montgomery Clift    Deborah Kerr  \n",
            "998          7.6  Tallulah Bankhead        John Hodiak   Walter Slezak  \n",
            "999          7.6       Robert Donat  Madeleine Carroll  Lucie Mannheim  \n",
            "\n",
            "[1000 rows x 7 columns]\n"
          ]
        }
      ]
    },
    {
      "cell_type": "code",
      "source": [
        "cleane_df[\"combined_features\"] = cleane_df[\"Genre\"] + \" \" + cleane_df[\"Series_Title\"] + \" \" + cleane_df[\"Director\"] + \" \" + cleane_df[\"IMDB_Rating\"].astype(str)\n",
        "cleane_df[\"combined_features\"]=cleane_df[\"combined_features\"].str.replace(\",\",\" \")\n",
        "\n",
        "print(cleane_df[\"combined_features\"])\n",
        "\n",
        "# Calling the DataFrame like a function is incorrect. Use indexing to access elements.\n",
        "# cleane_df(combined_features)\n",
        "# Instead, if you want to display the '"
      ],
      "metadata": {
        "colab": {
          "base_uri": "https://localhost:8080/"
        },
        "id": "UNDRAwJEeCwj",
        "outputId": "c9877226-0de1-4d09-86cf-b9aacb4c1cc0"
      },
      "execution_count": 14,
      "outputs": [
        {
          "output_type": "stream",
          "name": "stdout",
          "text": [
            "0      Drama The Shawshank Redemption Frank Darabont 9.3\n",
            "1      Crime  Drama The Godfather Francis Ford Coppol...\n",
            "2      Action  Crime  Drama The Dark Knight Christoph...\n",
            "3      Crime  Drama The Godfather: Part II Francis Fo...\n",
            "4             Crime  Drama 12 Angry Men Sidney Lumet 9.0\n",
            "                             ...                        \n",
            "995    Comedy  Drama  Romance Breakfast at Tiffany's ...\n",
            "996              Drama  Western Giant George Stevens 7.6\n",
            "997    Drama  Romance  War From Here to Eternity Fred...\n",
            "998             Drama  War Lifeboat Alfred Hitchcock 7.6\n",
            "999    Crime  Mystery  Thriller The 39 Steps Alfred H...\n",
            "Name: combined_features, Length: 1000, dtype: object\n"
          ]
        },
        {
          "output_type": "stream",
          "name": "stderr",
          "text": [
            "<ipython-input-14-814b03c0bf5f>:1: SettingWithCopyWarning: \n",
            "A value is trying to be set on a copy of a slice from a DataFrame.\n",
            "Try using .loc[row_indexer,col_indexer] = value instead\n",
            "\n",
            "See the caveats in the documentation: https://pandas.pydata.org/pandas-docs/stable/user_guide/indexing.html#returning-a-view-versus-a-copy\n",
            "  cleane_df[\"combined_features\"] = cleane_df[\"Genre\"] + \" \" + cleane_df[\"Series_Title\"] + \" \" + cleane_df[\"Director\"] + \" \" + cleane_df[\"IMDB_Rating\"].astype(str)\n",
            "<ipython-input-14-814b03c0bf5f>:2: SettingWithCopyWarning: \n",
            "A value is trying to be set on a copy of a slice from a DataFrame.\n",
            "Try using .loc[row_indexer,col_indexer] = value instead\n",
            "\n",
            "See the caveats in the documentation: https://pandas.pydata.org/pandas-docs/stable/user_guide/indexing.html#returning-a-view-versus-a-copy\n",
            "  cleane_df[\"combined_features\"]=cleane_df[\"combined_features\"].str.replace(\",\",\" \")\n"
          ]
        }
      ]
    },
    {
      "cell_type": "code",
      "source": [
        "from sklearn.feature_extraction.text import CountVectorizer # Changed 'countvectorizer' to 'CountVectorizer'\n",
        "vectorizer = CountVectorizer() # Corrected variable name from 'vectoriezer' to 'vectorizer'\n",
        "feature_vector = vectorizer.fit_transform(cleane_df[\"combined_features\"]) # Corrected variable name from 'featuer_vector' to 'feature_vector')\n",
        "feature_vector"
      ],
      "metadata": {
        "colab": {
          "base_uri": "https://localhost:8080/"
        },
        "id": "wsiZDALZexd7",
        "outputId": "3d162f0e-7dbc-495f-ed01-382fcd56cd60"
      },
      "execution_count": 15,
      "outputs": [
        {
          "output_type": "execute_result",
          "data": {
            "text/plain": [
              "<Compressed Sparse Row sparse matrix of dtype 'int64'\n",
              "\twith 7353 stored elements and shape (1000, 2501)>"
            ]
          },
          "metadata": {},
          "execution_count": 15
        }
      ]
    },
    {
      "cell_type": "markdown",
      "source": [],
      "metadata": {
        "id": "eSVaZizt5C3r"
      }
    },
    {
      "cell_type": "code",
      "source": [
        "from sklearn.metrics.pairwise import cosine_similarity\n",
        "similarities=cosine_similarity(feature_vector)\n",
        "similarities"
      ],
      "metadata": {
        "colab": {
          "base_uri": "https://localhost:8080/"
        },
        "id": "0Ufb7liC42L0",
        "outputId": "fe751f9d-12d3-4daa-f605-eae3c335f5e0"
      },
      "execution_count": 19,
      "outputs": [
        {
          "output_type": "execute_result",
          "data": {
            "text/plain": [
              "array([[1.        , 0.3086067 , 0.28867513, ..., 0.13608276, 0.18257419,\n",
              "        0.14433757],\n",
              "       [0.3086067 , 1.        , 0.40089186, ..., 0.12598816, 0.16903085,\n",
              "        0.26726124],\n",
              "       [0.28867513, 0.40089186, 1.        , ..., 0.11785113, 0.15811388,\n",
              "        0.25      ],\n",
              "       ...,\n",
              "       [0.13608276, 0.12598816, 0.11785113, ..., 1.        , 0.2981424 ,\n",
              "        0.        ],\n",
              "       [0.18257419, 0.16903085, 0.15811388, ..., 0.2981424 , 1.        ,\n",
              "        0.31622777],\n",
              "       [0.14433757, 0.26726124, 0.25      , ..., 0.        , 0.31622777,\n",
              "        1.        ]])"
            ]
          },
          "metadata": {},
          "execution_count": 19
        }
      ]
    },
    {
      "cell_type": "code",
      "source": [
        "import numpy as np\n",
        "\n",
        "movie = 'The Godfather'\n",
        "movie_idx = cleane_df[cleane_df[\"Series_Title\"] == movie].index[0]  # Get the index of the movie\n",
        "recommendation = np.c_[cleane_df[\"Series_Title\"], similarities[movie_idx]]\n",
        "\n",
        "# Sort recommendations based on similarity scores\n",
        "sorted_recommendation = sorted(recommendation, key=lambda x: x[1], reverse=True)\n",
        "\n",
        "# Print the sorted recommendations (top 10, for example)\n",
        "for item in sorted_recommendation[:10]:\n",
        "    print(item[0], item[1])"
      ],
      "metadata": {
        "colab": {
          "base_uri": "https://localhost:8080/"
        },
        "id": "C2_t3eWZ-Kau",
        "outputId": "ef84e982-9895-4438-fa27-4c009f8749fe"
      },
      "execution_count": 18,
      "outputs": [
        {
          "output_type": "stream",
          "name": "stdout",
          "text": [
            "The Godfather 0.9999999999999997\n",
            "The Godfather: Part II 0.8819171036881966\n",
            "The Godfather: Part III 0.8819171036881966\n",
            "The Conversation 0.6681531047810608\n",
            "Apocalypse Now 0.5345224838248487\n",
            "The Silence of the Lambs 0.4364357804719848\n",
            "The Day of the Jackal 0.4364357804719848\n",
            "The Departed 0.4285714285714285\n",
            "The Irishman 0.4285714285714285\n",
            "The Searchers 0.4285714285714285\n"
          ]
        }
      ]
    },
    {
      "cell_type": "code",
      "source": [
        "import matplotlib.pyplot as plt\n",
        "\n",
        "# Extract movie titles and similarity scores\n",
        "titles = [item[0] for item in sorted_recommendation[:10]]\n",
        "scores = [float(item[1]) for item in sorted_recommendation[:10]]\n",
        "\n",
        "# Create a bar chart\n",
        "plt.figure(figsize=(10, 6))\n",
        "plt.barh(titles, scores, color='skyblue')\n",
        "plt.xlabel('Similarity Score')\n",
        "plt.ylabel('Movie Title')\n",
        "plt.title('Top 10 Movie Recommendations Based on Similarity to \"The Godfather\"')\n",
        "plt.gca().invert_yaxis()  # Invert y-axis to have the highest score at the top\n",
        "plt.show()"
      ],
      "metadata": {
        "colab": {
          "base_uri": "https://localhost:8080/",
          "height": 515
        },
        "id": "-x-nv20R_nqa",
        "outputId": "a7beff25-0905-4447-d941-587452b26ca6"
      },
      "execution_count": 20,
      "outputs": [
        {
          "output_type": "display_data",
          "data": {
            "text/plain": [
              "<Figure size 1000x600 with 1 Axes>"
            ],
            "image/png": "[encoded data removed]"
          },
          "metadata": {}
        }
      ]
    }
  ]
}